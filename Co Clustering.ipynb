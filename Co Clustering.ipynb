{
 "cells": [
  {
   "cell_type": "code",
   "execution_count": 1,
   "id": "2b45735f",
   "metadata": {},
   "outputs": [],
   "source": [
    "# Import the correct algorithm\n",
    "from surprise import Dataset, CoClustering, Reader \n",
    "from surprise.model_selection import GridSearchCV, train_test_split\n",
    "\n",
    "import pandas as pd\n",
    "\n",
    "import time"
   ]
  },
  {
   "cell_type": "code",
   "execution_count": 2,
   "id": "1e8692d0",
   "metadata": {},
   "outputs": [],
   "source": [
    "df = Dataset.load_builtin('ml-1m')"
   ]
  },
  {
   "cell_type": "code",
   "execution_count": 3,
   "id": "a061e431",
   "metadata": {},
   "outputs": [
    {
     "data": {
      "text/plain": [
       "[{'n_cltr_u': 2, 'n_cltr_i': 2, 'random_state': 1, 'verbose': True},\n",
       " {'n_cltr_u': 2, 'n_cltr_i': 3, 'random_state': 1, 'verbose': True},\n",
       " {'n_cltr_u': 2, 'n_cltr_i': 4, 'random_state': 1, 'verbose': True},\n",
       " {'n_cltr_u': 3, 'n_cltr_i': 2, 'random_state': 1, 'verbose': True},\n",
       " {'n_cltr_u': 3, 'n_cltr_i': 3, 'random_state': 1, 'verbose': True},\n",
       " {'n_cltr_u': 3, 'n_cltr_i': 4, 'random_state': 1, 'verbose': True},\n",
       " {'n_cltr_u': 4, 'n_cltr_i': 2, 'random_state': 1, 'verbose': True},\n",
       " {'n_cltr_u': 4, 'n_cltr_i': 3, 'random_state': 1, 'verbose': True},\n",
       " {'n_cltr_u': 4, 'n_cltr_i': 4, 'random_state': 1, 'verbose': True}]"
      ]
     },
     "execution_count": 3,
     "metadata": {},
     "output_type": "execute_result"
    }
   ],
   "source": [
    "# As we're loading a custom dataset, we need to define a reader. In the\n",
    "# movielens-1m dataset, each line has the following format:\n",
    "# 'user item rating timestamp', separated by '::' characters.\n",
    "reader = Reader(line_format=\"user item rating timestamp\",sep='::')\n",
    "\n",
    "# Use movielens-1m\n",
    "# change parameter grid according to what you want to tune in your model, shouldn't be too complicated, just a \n",
    "# few sets of permutations will suffice\n",
    "df = Dataset.load_builtin('ml-1m')\n",
    "param_grid = {\"n_cltr_u\": [2,3,4], \n",
    "              \"n_cltr_i\": [2,3,4], \n",
    "              \"random_state\":[1],\n",
    "              \"verbose\":[True]}\n",
    "\n",
    "# change algorithm here to SVD etc.\n",
    "gs = GridSearchCV(CoClustering, param_grid, measures=[\"rmse\"], cv=3, n_jobs=-1)\n",
    "\n",
    "gs.param_combinations\n"
   ]
  },
  {
   "cell_type": "code",
   "execution_count": null,
   "id": "fefdff33",
   "metadata": {},
   "outputs": [],
   "source": [
    "gs.fit(df)\n",
    "# best RMSE score\n",
    "print('RMSE_best_score:',gs.best_score[\"rmse\"])\n",
    "\n",
    "# combination of parameters that gave the best RMSE score\n",
    "print('RMSE_best_params',gs.best_params[\"rmse\"])\n"
   ]
  },
  {
   "cell_type": "code",
   "execution_count": null,
   "id": "2011bfec",
   "metadata": {},
   "outputs": [],
   "source": [
    "train_data, test_data = train_test_split(df, test_size=0.25, random_state=1)"
   ]
  },
  {
   "cell_type": "code",
   "execution_count": null,
   "id": "fd4ab938",
   "metadata": {},
   "outputs": [],
   "source": [
    "algo = gs.best_estimator[\"rmse\"]\n",
    "\n",
    "algo.fit(train_data)"
   ]
  },
  {
   "cell_type": "code",
   "execution_count": null,
   "id": "b2f1777f",
   "metadata": {},
   "outputs": [],
   "source": [
    "test_data = pd.DataFrame(test_data)\n",
    "test_data = test_data.rename(columns={\n",
    "    0: \"uid\",\n",
    "    1: \"iid\",\n",
    "    2: \"rating\"\n",
    "})"
   ]
  },
  {
   "cell_type": "code",
   "execution_count": null,
   "id": "9bc2668b",
   "metadata": {},
   "outputs": [],
   "source": [
    "y_pred_array = []\n",
    "begin = time.time()\n",
    "for i in range(len(test_data)):\n",
    "    y_pred = algo.predict(test_data.loc[i]['uid'], test_data.loc[i]['iid'])\n",
    "    y_pred_array.append(y_pred)\n",
    "end = time.time()    \n"
   ]
  },
  {
   "cell_type": "code",
   "execution_count": null,
   "id": "c258a9dc",
   "metadata": {},
   "outputs": [],
   "source": [
    "y_pred_array"
   ]
  },
  {
   "cell_type": "code",
   "execution_count": null,
   "id": "6e7a4aa8",
   "metadata": {},
   "outputs": [],
   "source": [
    "print(f\"time taken to generate test predictions = {round(end-begin, 2)} seconds\")"
   ]
  },
  {
   "cell_type": "code",
   "execution_count": null,
   "id": "732afb02",
   "metadata": {},
   "outputs": [],
   "source": []
  }
 ],
 "metadata": {
  "kernelspec": {
   "display_name": "Python 3 (ipykernel)",
   "language": "python",
   "name": "python3"
  },
  "language_info": {
   "codemirror_mode": {
    "name": "ipython",
    "version": 3
   },
   "file_extension": ".py",
   "mimetype": "text/x-python",
   "name": "python",
   "nbconvert_exporter": "python",
   "pygments_lexer": "ipython3",
   "version": "3.9.12"
  }
 },
 "nbformat": 4,
 "nbformat_minor": 5
}
