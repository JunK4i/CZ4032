{
 "cells": [
  {
   "cell_type": "code",
   "execution_count": 123,
   "id": "d2b7c363",
   "metadata": {},
   "outputs": [],
   "source": [
    "# Import the correct algorithm\n",
    "from surprise import Dataset, Reader, accuracy, SVD, CoClustering, SlopeOne \n",
    "from surprise.accuracy import rmse\n",
    "from surprise.model_selection import GridSearchCV, train_test_split\n",
    "import pandas as pd\n",
    "import time\n",
    "import pathlib\n",
    "import numpy as np\n",
    "import math"
   ]
  },
  {
   "cell_type": "markdown",
   "id": "128d9213",
   "metadata": {},
   "source": [
    "## Load Datasets"
   ]
  },
  {
   "cell_type": "code",
   "execution_count": 2,
   "id": "3e87b55c",
   "metadata": {},
   "outputs": [],
   "source": [
    "data_100k =  Dataset.load_builtin('ml-100k')\n",
    "# data_1m = Dataset.load_builtin('ml-1m')\n",
    "# path = pathlib.Path('ml-10M100K').resolve() / 'ratings.dat'\n",
    "# reader = Reader(line_format=\"user item rating timestamp\",sep='::')\n",
    "# print(path)\n",
    "# data_10m = Dataset.load_from_file(file_path=path,reader=reader)"
   ]
  },
  {
   "cell_type": "code",
   "execution_count": 44,
   "id": "49d5327d",
   "metadata": {},
   "outputs": [],
   "source": [
    "# 'user item rating timestamp', separated by '::' characters.\n",
    "# reader = Reader(line_format=\"user item rating timestamp\",sep='::')\n",
    "\n",
    "# param_grid = {\"n_epochs\": [10], \n",
    "#               \"lr_all\": [0.002,0.003,0.005], \n",
    "#               \"reg_all\": [0.01,0.02,0.03],\n",
    "#               'biased':[True,False],'random_state':[1],\n",
    "#               'verbose':[True]}\n",
    "\n",
    "# param_grid = {\"n_cltr_u\": [2,3,4], \n",
    "#               \"n_cltr_i\": [2,3,4], \n",
    "#               \"random_state\":[1],\n",
    "#               \"verbose\":[True]}\n",
    "\n",
    "# gs_SVD = GridSearchCV(SVD, param_grid, measures=[\"rmse\"], cv=3, n_jobs=-1)\n",
    "# gs_SlopeOne = GridSearchCV(SlopeOne, param_grid, measures=[\"rmse\"], cv=3, n_jobs=-1)\n",
    "# gs_CoClustering = GridSearchCV(CoClustering, param_grid, measures=[\"rmse\"], cv=3, n_jobs=-1)\n",
    "# gs_CoClustering.param_combinations\n",
    "\n",
    "# gs_SVD.fit(data_100k)\n",
    "# gs_SlopeOne.fit(data_100k)\n",
    "# gs_CoClustering.fit(data_100k)\n",
    "# print(\"SVD - 100k\")\n",
    "# print('RMSE_best_score:',gs_SVD.best_score[\"rmse\"])\n",
    "# print('RMSE_best_params',gs_SVD.best_params[\"rmse\"])\n",
    "# train_data_100k, test_data_100k = train_test_split(data_100k, test_size=0.25, random_state=1)\n",
    "# algo = gs.best_estimator[\"rmse\"]\n",
    "# algo.fit(train_data_100k)"
   ]
  },
  {
   "cell_type": "markdown",
   "id": "697bf502",
   "metadata": {},
   "source": [
    "## Initialise diff algo"
   ]
  },
  {
   "cell_type": "code",
   "execution_count": 3,
   "id": "715a28f3",
   "metadata": {},
   "outputs": [],
   "source": [
    "svd = SVD()\n",
    "co_clustering = CoClustering()\n",
    "slope_one = SlopeOne()\n",
    "algo_dict = {\"SVD\":svd,\"CoClustering\":co_clustering,\"SlopeOne\":slope_one}"
   ]
  },
  {
   "cell_type": "markdown",
   "id": "50741be7",
   "metadata": {},
   "source": [
    "## Split training and test data"
   ]
  },
  {
   "cell_type": "code",
   "execution_count": 4,
   "id": "8338da32",
   "metadata": {},
   "outputs": [],
   "source": [
    "# Test set is 25%\n",
    "train_data_100k, test_data_100k = train_test_split(data_100k, test_size=0.25, random_state=1)\n",
    "# train_data_1m, test_data_1m = train_test_split(data_1m, test_size=0.25, random_state=1)\n",
    "# train_data_10m, test_data_10m = train_test_split(data_10m, test_size=0.25, random_state=1)"
   ]
  },
  {
   "cell_type": "markdown",
   "id": "430569b3",
   "metadata": {},
   "source": [
    "## Compare fit timing and prediction accuracy"
   ]
  },
  {
   "cell_type": "code",
   "execution_count": 5,
   "id": "8a811511",
   "metadata": {},
   "outputs": [
    {
     "name": "stdout",
     "output_type": "stream",
     "text": [
      "----------- 100k ---------------\n",
      "RMSE: 0.9441\n",
      "SVD: 0.9440700420917433, fit_time: 0.79\n",
      "\n",
      "RMSE: 0.9716\n",
      "CoClustering: 0.9716279462341331, fit_time: 1.21\n",
      "\n",
      "RMSE: 0.9477\n",
      "SlopeOne: 0.9477498649038465, fit_time: 0.49\n",
      "\n"
     ]
    }
   ],
   "source": [
    "predictions = {}\n",
    "\n",
    "print(\"----------- 100k ---------------\")\n",
    "for name,algo in algo_dict.items():\n",
    "    begin = time.time()\n",
    "    algo.fit(train_data_100k)\n",
    "    end = time.time()\n",
    "    predictions[name] = algo.test(test_data_100k)\n",
    "    result = accuracy.rmse(predictions[name])\n",
    "    print(f'{name}: {result}, fit_time: {round(end-begin,2)}')\n",
    "    print()\n",
    "\n",
    "# print(\"----------- 1m ---------------\")\n",
    "# for name,algo in algo_dict.items():\n",
    "#     begin = time.time()\n",
    "#     algo.fit(train_data_1m)\n",
    "#     end = time.time()\n",
    "#     predictions[name] = algo.test(test_data_1m)\n",
    "#     result = accuracy.rmse(predictions[name])\n",
    "#     print(f'{name}: {result}, fit_time: {round(end-begin,2)}')\n",
    "#     print()\n",
    "\n",
    "# print(\"----------- 10m ---------------\")\n",
    "# for name,algo in algo_dict.items():\n",
    "#     begin = time.time()\n",
    "#     algo.fit(train_data_10m)\n",
    "#     end = time.time()\n",
    "#     predictions[name] = algo.test(test_data_10m)\n",
    "#     result = accuracy.rmse(predictions[name])\n",
    "#     print(f'{name}: {result}, fit_time: {round(end-begin,2)}')\n",
    "#     print()"
   ]
  },
  {
   "cell_type": "markdown",
   "id": "cc04f7f8",
   "metadata": {},
   "source": [
    "## Preparing dataframe for predictions"
   ]
  },
  {
   "cell_type": "code",
   "execution_count": 6,
   "id": "1a30dbee",
   "metadata": {},
   "outputs": [],
   "source": [
    "test_data_100k = pd.DataFrame(test_data_100k)\n",
    "test_data_100k = test_data_100k.rename(columns={\n",
    "    0: \"uid\",\n",
    "    1: \"iid\",\n",
    "    2: \"rating\"\n",
    "})\n",
    "\n",
    "# test_data_1m = pd.DataFrame(test_data_1m)\n",
    "# test_data_1m = test_data_1m.rename(columns={\n",
    "#     0: \"uid\",\n",
    "#     1: \"iid\",\n",
    "#     2: \"rating\"\n",
    "# })\n",
    "\n",
    "# test_data_10m = pd.DataFrame(test_data_10m)\n",
    "# test_data_10m = test_data_10m.rename(columns={\n",
    "#     0: \"uid\",\n",
    "#     1: \"iid\",\n",
    "#     2: \"rating\"\n",
    "# })"
   ]
  },
  {
   "cell_type": "markdown",
   "id": "84855747",
   "metadata": {},
   "source": [
    "## Compare time taken to predict missing data"
   ]
  },
  {
   "cell_type": "code",
   "execution_count": 7,
   "id": "e6d5bc04",
   "metadata": {},
   "outputs": [
    {
     "name": "stdout",
     "output_type": "stream",
     "text": [
      "----------- 100k ---------------\n",
      "SVD\n",
      "time taken to generate test predictions = 5.09 seconds\n",
      "\n",
      "CoClustering\n",
      "time taken to generate test predictions = 4.51 seconds\n",
      "\n",
      "SlopeOne\n",
      "time taken to generate test predictions = 6.93 seconds\n",
      "\n"
     ]
    }
   ],
   "source": [
    "pred_dict_100k={}\n",
    "pred_dict_1m={}\n",
    "pred_dict_10m={}\n",
    "\n",
    "\n",
    "print(\"----------- 100k ---------------\")\n",
    "for name,algo in algo_dict.items():\n",
    "    pred_dict_100k[name] = []\n",
    "    total_time = 0.00\n",
    "    for i in range(len(test_data_100k)):\n",
    "        begin = time.time()\n",
    "        y_pred = algo.predict(test_data_100k.loc[i]['uid'], test_data_100k.loc[i]['iid'])\n",
    "        end = time.time()\n",
    "        y_pred = np.array(y_pred)\n",
    "        y_pred[2] = test_data_100k.loc[i]['rating']\n",
    "        pred_dict_100k[name].append(y_pred)\n",
    "        total_time += end-begin\n",
    "    print(name)\n",
    "    print(f\"time taken to generate test predictions = {round(total_time, 2)} seconds\")\n",
    "    print()\n",
    "    \n",
    "# print(\"----------- 1m ---------------\")\n",
    "# for name,algo in algo_dict.items():\n",
    "#     pred_dict_1m[name] = []\n",
    "#     total_time = 0.00\n",
    "#     for i in range(len(test_data_1m)):\n",
    "#         begin = time.time()\n",
    "#         y_pred = algo.predict(test_data_1m.loc[i]['uid'], test_data_1m.loc[i]['iid'])\n",
    "#         end = time.time()\n",
    "#         y_pred = np.array(y_pred)\n",
    "#         y_pred[2] = test_data_1m.loc[i]['rating']\n",
    "#         pred_dict_1m[name].append(y_pred)\n",
    "#         total_time += end-begin\n",
    "#     print(name)\n",
    "#     print(f\"time taken to generate test predictions = {round(total_time, 2)} seconds\")\n",
    "#     print()\n",
    "\n",
    "    \n",
    "# print(\"----------- 10m ---------------\")\n",
    "# for name,algo in algo_dict.items():\n",
    "#     pred_dict_10m[name] = []\n",
    "#     total_time = 0.00\n",
    "#     for i in range(len(test_data_10m)):\n",
    "#         begin = time.time()\n",
    "#         y_pred = algo.predict(test_data_10m.loc[i]['uid'], test_data_10m.loc[i]['iid'])\n",
    "#         end = time.time()\n",
    "#         y_pred = np.array(y_pred)\n",
    "#         y_pred[2] = test_data_10m.loc[i]['rating']\n",
    "#         pred_dict_10m[name].append(y_pred)\n",
    "#         total_time += end-begin\n",
    "#     print(name)\n",
    "#     print(f\"time taken to generate test predictions = {round(total_time, 2)} seconds\")\n",
    "#     print()\n"
   ]
  },
  {
   "cell_type": "markdown",
   "id": "46bbeccb",
   "metadata": {},
   "source": [
    "## Analysis of prediction results"
   ]
  },
  {
   "attachments": {},
   "cell_type": "markdown",
   "id": "4484c797",
   "metadata": {},
   "source": []
  },
  {
   "attachments": {
    "Screenshot%202022-10-13%20at%207.20.30%20PM.png": {
     "image/png": "[encoded data removed]"
    }
   },
   "cell_type": "markdown",
   "id": "9a92809b",
   "metadata": {},
   "source": [
    "Analyse the Normalised Discounted Cumulative Gain for each clustering method. \n",
    "- 0 < NDCG < 1, higher the better\n",
    "- ![Screenshot%202022-10-13%20at%207.20.30%20PM.png](attachment:Screenshot%202022-10-13%20at%207.20.30%20PM.png)"
   ]
  },
  {
   "attachments": {
    "Screenshot%202022-10-13%20at%207.22.47%20PM.png": {
     "image/png": "[encoded data removed]"
    }
   },
   "cell_type": "markdown",
   "id": "6377fd43",
   "metadata": {},
   "source": [
    "- ![Screenshot%202022-10-13%20at%207.22.47%20PM.png](attachment:Screenshot%202022-10-13%20at%207.22.47%20PM.png)\n",
    "- Relevance = 0/1, 0 means that we did not predict the correct item at the correct position, 1 means that we predicted the correct item at the correct position"
   ]
  },
  {
   "cell_type": "markdown",
   "id": "174d6c1a",
   "metadata": {},
   "source": [
    "- iDCG is Ideal Discounted Cumulative Gain. It is calculated by assuming our N predicted recommendations follow exactly the user's top N favourites. In essence, it is the same formula as DCG but relevance = 1 for all N."
   ]
  },
  {
   "cell_type": "markdown",
   "id": "d405416f",
   "metadata": {},
   "source": [
    "- We pick out 10 users who gave rating of 5 to less than 5 items. This is to avoid rating of 5 to overcrowd the top N recommendations."
   ]
  },
  {
   "cell_type": "code",
   "execution_count": 141,
   "id": "383bd926",
   "metadata": {},
   "outputs": [],
   "source": [
    "# function to calculate DCG\n",
    "def generateDCG(actual, pred):\n",
    "    dcg = 0\n",
    "    for i in range(10):\n",
    "        if actual[i] == pred[i]: # whenever there is a match in the item and position, add to the dcg\n",
    "            dcg += 1/math.log2(i+2)\n",
    "    return dcg\n",
    "\n",
    "# function to calculate NDCG \n",
    "def generateNDCG(data, uid):\n",
    "    user = data[data['uid'] == str(uid)]\n",
    "    \n",
    "    actual_top10 = user.sort_values(by=['rating'], ascending = False)[:10]\n",
    "    predicted_top10 = user.sort_values(by=['predicted_rating'], ascending=False)[:10]\n",
    "    \n",
    "    # generate idcg where all relevance = 1\n",
    "    idcg = 0\n",
    "    for i in range(10):\n",
    "        idcg += 1/math.log2(i+2)\n",
    "    \n",
    "    dcg = generateDCG(actual_top10['iid'].reset_index(drop=True),\n",
    "                     predicted_top10['iid'].reset_index(drop=True))\n",
    "    \n",
    "    return dcg / idcg"
   ]
  },
  {
   "cell_type": "markdown",
   "id": "2e1d3561",
   "metadata": {},
   "source": [
    "### Co-Clustering"
   ]
  },
  {
   "cell_type": "code",
   "execution_count": 148,
   "id": "aaeed4c3",
   "metadata": {},
   "outputs": [
    {
     "name": "stdout",
     "output_type": "stream",
     "text": [
      "----------- 100k ---------------\n",
      "For user 17, NDCG = 0.06362078819895171\n",
      "For user 19, NDCG = 0.2934556883974402\n",
      "For user 20, NDCG = 0.0\n",
      "For user 26, NDCG = 0.22009176629808017\n",
      "For user 27, NDCG = 0.0\n",
      "For user 29, NDCG = 0.0\n",
      "For user 32, NDCG = 0.0\n",
      "For user 33, NDCG = 0.22009176629808017\n",
      "For user 35, NDCG = 0.08514311764162098\n",
      "For user 47, NDCG = 0.09478836436955078\n"
     ]
    }
   ],
   "source": [
    "# Define algo: SVD, SlopeOne, CoClustering\n",
    "algo = algo_dict['CoClustering']\n",
    "\n",
    "# converting data to dataframe so that it's easier for prediction\n",
    "data_100k_df = pd.DataFrame(data_100k.__dict__['raw_ratings'], \n",
    "                            columns=['user_id','item_id','rating','timestamp'])\n",
    "\n",
    "# generating prediction for the ENTIRE dataset which means it includes the test and train data too\n",
    "all_pred_dict_100k = []\n",
    "print(\"----------- 100k ---------------\")\n",
    "for i in range(len(data_100k_df)):\n",
    "    y_pred = algo.predict(data_100k_df.loc[i]['user_id'], data_100k_df.loc[i]['item_id'])\n",
    "    y_pred = np.array(y_pred)\n",
    "    y_pred[2] = data_100k_df.loc[i]['rating']\n",
    "    all_pred_dict_100k.append(y_pred)\n",
    "\n",
    "# converting data to dataframe so that it's easier below\n",
    "all_data_100k = pd.DataFrame(all_pred_dict_100k)\n",
    "all_data_100k = all_data_100k.rename(columns={\n",
    "    0: \"uid\",\n",
    "    1: \"iid\",\n",
    "    2: \"rating\",\n",
    "    3: \"predicted_rating\"\n",
    "})\n",
    "\n",
    "# group the data based on user id and rating and count\n",
    "# this will return the number of items a user gave a rating of {1,2,3,4,5}\n",
    "grouped = data_100k_df.groupby(by=['user_id','rating']).count()\n",
    "\n",
    "# look for potential users to do our test on\n",
    "# the condition is that they have to have given less than 5 items a rating of 5\n",
    "candidate_users = []\n",
    "for i in range(len(data_100k_df)):\n",
    "    try:\n",
    "        length = grouped.loc[(str(i+1), 5)]['item_id']\n",
    "        if length < 5:\n",
    "            candidate_users.append(i+1)\n",
    "    except:\n",
    "        continue\n",
    "        \n",
    "# First 10 users will be used for evaluation\n",
    "users = []\n",
    "for i in range(10):\n",
    "    users.append(candidate_users[i])\n",
    "\n",
    "ndcg_CC = []\n",
    "for i in users:\n",
    "    ndcg = generateNDCG(all_data_100k, i)\n",
    "    ndcg_CC.append(ndcg)\n",
    "    print(f\"For user {i}, NDCG = {ndcg}\")"
   ]
  },
  {
   "cell_type": "markdown",
   "id": "e9074528",
   "metadata": {},
   "source": [
    "### SVD"
   ]
  },
  {
   "cell_type": "code",
   "execution_count": 152,
   "id": "922702c2",
   "metadata": {},
   "outputs": [
    {
     "name": "stdout",
     "output_type": "stream",
     "text": [
      "----------- 100k ---------------\n",
      "For user 17, NDCG = 0.22009176629808017\n",
      "For user 19, NDCG = 0.0\n",
      "For user 20, NDCG = 0.1731866333482261\n",
      "For user 26, NDCG = 0.23365080824310533\n",
      "For user 27, NDCG = 0.0\n",
      "For user 29, NDCG = 0.28371255449703187\n",
      "For user 32, NDCG = 0.11004588314904008\n",
      "For user 33, NDCG = 0.22009176629808017\n",
      "For user 35, NDCG = 0.22009176629808017\n",
      "For user 47, NDCG = 0.0\n"
     ]
    }
   ],
   "source": [
    "# Define algo: SVD, SlopeOne, CoClustering\n",
    "algo = algo_dict['SVD']\n",
    "\n",
    "# converting data to dataframe so that it's easier for prediction\n",
    "data_100k_df = pd.DataFrame(data_100k.__dict__['raw_ratings'], \n",
    "                            columns=['user_id','item_id','rating','timestamp'])\n",
    "\n",
    "# generating prediction for the ENTIRE dataset which means it includes the test and train data too\n",
    "all_pred_dict_100k = []\n",
    "print(\"----------- 100k ---------------\")\n",
    "for i in range(len(data_100k_df)):\n",
    "    y_pred = algo.predict(data_100k_df.loc[i]['user_id'], data_100k_df.loc[i]['item_id'])\n",
    "    y_pred = np.array(y_pred)\n",
    "    y_pred[2] = data_100k_df.loc[i]['rating']\n",
    "    all_pred_dict_100k.append(y_pred)\n",
    "\n",
    "# converting data to dataframe so that it's easier below\n",
    "all_data_100k = pd.DataFrame(all_pred_dict_100k)\n",
    "all_data_100k = all_data_100k.rename(columns={\n",
    "    0: \"uid\",\n",
    "    1: \"iid\",\n",
    "    2: \"rating\",\n",
    "    3: \"predicted_rating\"\n",
    "})\n",
    "\n",
    "# group the data based on user id and rating and count\n",
    "# this will return the number of items a user gave a rating of {1,2,3,4,5}\n",
    "grouped = data_100k_df.groupby(by=['user_id','rating']).count()\n",
    "\n",
    "# look for potential users to do our test on\n",
    "# the condition is that they have to have given less than 5 items a rating of 5\n",
    "candidate_users = []\n",
    "for i in range(len(data_100k_df)):\n",
    "    try:\n",
    "        length = grouped.loc[(str(i+1), 5)]['item_id']\n",
    "        if length < 5:\n",
    "            candidate_users.append(i+1)\n",
    "    except:\n",
    "        continue\n",
    "        \n",
    "# First 10 users will be used for evaluation\n",
    "users = []\n",
    "for i in range(10):\n",
    "    users.append(candidate_users[i])\n",
    "\n",
    "ndcg_SVD = []\n",
    "for i in users:\n",
    "    ndcg = generateNDCG(all_data_100k, i)\n",
    "    ndcg_SVD.append(ndcg)\n",
    "    print(f\"For user {i}, NDCG = {ndcg}\")"
   ]
  },
  {
   "cell_type": "markdown",
   "id": "7a114789",
   "metadata": {},
   "source": [
    "### Slope One"
   ]
  },
  {
   "cell_type": "code",
   "execution_count": 149,
   "id": "73924bff",
   "metadata": {},
   "outputs": [
    {
     "name": "stdout",
     "output_type": "stream",
     "text": [
      "----------- 100k ---------------\n",
      "For user 17, NDCG = 0.06625422345438903\n",
      "For user 19, NDCG = 0.1681522864689108\n",
      "For user 20, NDCG = 0.0\n",
      "For user 26, NDCG = 0.11004588314904008\n",
      "For user 27, NDCG = 0.0\n",
      "For user 29, NDCG = 0.0\n",
      "For user 32, NDCG = 0.0\n",
      "For user 33, NDCG = 0.22009176629808017\n",
      "For user 35, NDCG = 0.06625422345438903\n",
      "For user 47, NDCG = 0.0\n"
     ]
    }
   ],
   "source": [
    "# Define algo: SVD, SlopeOne, CoClustering\n",
    "algo = algo_dict['SlopeOne']\n",
    "\n",
    "# converting data to dataframe so that it's easier for prediction\n",
    "data_100k_df = pd.DataFrame(data_100k.__dict__['raw_ratings'], \n",
    "                            columns=['user_id','item_id','rating','timestamp'])\n",
    "\n",
    "# generating prediction for the ENTIRE dataset which means it includes the test and train data too\n",
    "all_pred_dict_100k = []\n",
    "print(\"----------- 100k ---------------\")\n",
    "for i in range(len(data_100k_df)):\n",
    "    y_pred = algo.predict(data_100k_df.loc[i]['user_id'], data_100k_df.loc[i]['item_id'])\n",
    "    y_pred = np.array(y_pred)\n",
    "    y_pred[2] = data_100k_df.loc[i]['rating']\n",
    "    all_pred_dict_100k.append(y_pred)\n",
    "\n",
    "# converting data to dataframe so that it's easier below\n",
    "all_data_100k = pd.DataFrame(all_pred_dict_100k)\n",
    "all_data_100k = all_data_100k.rename(columns={\n",
    "    0: \"uid\",\n",
    "    1: \"iid\",\n",
    "    2: \"rating\",\n",
    "    3: \"predicted_rating\"\n",
    "})\n",
    "\n",
    "# group the data based on user id and rating and count\n",
    "# this will return the number of items a user gave a rating of {1,2,3,4,5}\n",
    "grouped = data_100k_df.groupby(by=['user_id','rating']).count()\n",
    "\n",
    "# look for potential users to do our test on\n",
    "# the condition is that they have to have given less than 5 items a rating of 5\n",
    "candidate_users = []\n",
    "for i in range(len(data_100k_df)):\n",
    "    try:\n",
    "        length = grouped.loc[(str(i+1), 5)]['item_id']\n",
    "        if length < 5:\n",
    "            candidate_users.append(i+1)\n",
    "    except:\n",
    "        continue\n",
    "        \n",
    "# First 10 users will be used for evaluation\n",
    "users = []\n",
    "for i in range(10):\n",
    "    users.append(candidate_users[i])\n",
    "\n",
    "ndcg_SlopeOne = []\n",
    "for i in users:\n",
    "    ndcg = generateNDCG(all_data_100k, i)\n",
    "    ndcg_SlopeOne.append(ndcg)\n",
    "    print(f\"For user {i}, NDCG = {ndcg}\")"
   ]
  },
  {
   "cell_type": "code",
   "execution_count": 154,
   "id": "fe41f5e8",
   "metadata": {},
   "outputs": [
    {
     "name": "stdout",
     "output_type": "stream",
     "text": [
      "Average Normalised Discounted Cumulative Mean for Co-Clustering: 0.0977191491203724\n",
      "Average Normalised Discounted Cumulative Mean for SVD: 0.14608711781316436\n",
      "Average Normalised Discounted Cumulative Mean for Slope One: 0.06307983828248091\n"
     ]
    }
   ],
   "source": [
    "print(f\"Average Normalised Discounted Cumulative Mean for Co-Clustering: {np.mean(ndcg_CC)}\")\n",
    "print(f\"Average Normalised Discounted Cumulative Mean for SVD: {np.mean(ndcg_SVD)}\")\n",
    "print(f\"Average Normalised Discounted Cumulative Mean for Slope One: {np.mean(ndcg_SlopeOne)}\")"
   ]
  },
  {
   "cell_type": "code",
   "execution_count": null,
   "id": "691c9f60",
   "metadata": {},
   "outputs": [],
   "source": []
  }
 ],
 "metadata": {
  "kernelspec": {
   "display_name": "Python 3 (ipykernel)",
   "language": "python",
   "name": "python3"
  },
  "language_info": {
   "codemirror_mode": {
    "name": "ipython",
    "version": 3
   },
   "file_extension": ".py",
   "mimetype": "text/x-python",
   "name": "python",
   "nbconvert_exporter": "python",
   "pygments_lexer": "ipython3",
   "version": "3.9.12"
  }
 },
 "nbformat": 4,
 "nbformat_minor": 5
}
